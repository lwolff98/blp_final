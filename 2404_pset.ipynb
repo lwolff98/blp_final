{
 "cells": [
  {
   "cell_type": "markdown",
   "metadata": {},
   "source": [
    "This was a final project I completed for my Empirical Applications of Economic Theory Course in grad school. I used the BLP method of demand curve estimation to predict the welfare impacts of mergers between different types of TV services. In this fake setup, we generated data for 600 markets (aka cities) which each had 4 goods to choose between (2 satelite TV and 2 wired TV). This data generation is done in parts 1-3. I used OLS to estimate demand in parts 4-6, but prices are endogenous to demand so they are not accurate models. In parts 7-9 I used the BLP model to correctly estimate demand. Finally, in parts 10-14, I analyzed the potential mergers between TV service companies."
   ]
  },
  {
   "cell_type": "code",
   "execution_count": 71,
   "metadata": {},
   "outputs": [],
   "source": [
    "import numpy as np\n",
    "from scipy import optimize\n",
    "import pandas as pd\n",
    "import matplotlib.pyplot as plt\n",
    "import statsmodels.api as sm\n",
    "from statsmodels.sandbox.regression.gmm import IV2SLS\n",
    "import pyblp\n",
    "import tabulate\n",
    "pyblp.options.digits = 2\n",
    "\n",
    "np.random.seed(1111)\n",
    "\n",
    "# Given Parameters\n",
    "T = 600 # number of markets\n",
    "J = 4 # number of products \n",
    "alpha = -2\n",
    "gamma_0 = 1/2\n",
    "gamma_1 = 1/4\n",
    "betas = np.array([1, 4, 4, -2]) # [beta_1, beta_2, beta_3, alpha]\n",
    "\n",
    "# Chosen Parameters\n",
    "N_draws = 500\n"
   ]
  },
  {
   "cell_type": "markdown",
   "metadata": {},
   "source": [
    "Part 1 - Generate X, W, Omega and Xi"
   ]
  },
  {
   "cell_type": "code",
   "execution_count": 72,
   "metadata": {},
   "outputs": [],
   "source": [
    "X = abs(np.random.normal(0, 1, (T, J)))\n",
    "W = abs(np.random.normal(0, 1, (T, J)))\n",
    "\n",
    "cov_array = np.array([[1,0.25],[0.25, 1]])\n",
    "L = np.linalg.cholesky(cov_array)\n",
    "Xi = np.empty([T,J])\n",
    "Omega = np.empty([T,J])\n",
    "\n",
    "for t in range(T):\n",
    "    for j in range (J):\n",
    "        z = np.random.normal(0, 1, (2,1))\n",
    "        y = np.dot(L, z)\n",
    "        Xi[t,j] = np.squeeze(y[0])\n",
    "        Omega[t,j] = np.squeeze(y[1])\n",
    "\n",
    "SAT = np.column_stack([np.ones(T), np.ones(T), np.zeros(T), np.zeros(T)]) # (TxJ) each row is [1,1,0,0]\n",
    "WIR = np.column_stack([np.zeros(T), np.zeros(T), np.ones(T), np.ones(T)]) # (TxJ) each row is [0,0,1,1]\n",
    "v_vec = np.random.normal(0, 1, (N_draws, 2)) # (N_draws x 2) for beta_2 and beta_3"
   ]
  },
  {
   "cell_type": "markdown",
   "metadata": {},
   "source": [
    "Part 2 - Calculate Equilibrium Prices"
   ]
  },
  {
   "cell_type": "code",
   "execution_count": 73,
   "metadata": {},
   "outputs": [],
   "source": [
    "# returns (Jx1) shares in a market t\n",
    "def shares(p, xi, sat, wir, x, v):\n",
    "    denominator = 1\n",
    "    numerator = np.zeros(J)\n",
    "    for j_index in range(J):\n",
    "        share_j = np.exp(np.dot([x[j_index], sat[j_index], wir[j_index], p[j_index]], betas) +\n",
    "                     sat[j_index] * v[0] + wir[j_index] * v[1] +\n",
    "                     xi[j_index])\n",
    "        numerator[j_index] = share_j\n",
    "        denominator += share_j\n",
    "    return numerator / denominator\n",
    "\n",
    "# returns (Jx1) shares for market t (averaged over all draws)\n",
    "def estimated_shares(p, t):\n",
    "    sum_shares = np.zeros(J)\n",
    "    for r in range(N_draws):\n",
    "        sum_shares += shares(p, Xi[t], SAT[t], WIR[t], X[t], v_vec[r])\n",
    "    return sum_shares / N_draws\n",
    "\n",
    "# returns J marginal costs for each product in market t\n",
    "def mc(t):\n",
    "    return np.exp(gamma_0 + W[t] * gamma_1 + (Omega[t] / 8))\n",
    "\n",
    "# returns (J x 1) vector of derivatives\n",
    "def dsj_dpj(shares_j, coeff):\n",
    "    return coeff * shares_j * (1 - shares_j)\n",
    "\n",
    "# returns (J x 1) vector of FOC's\n",
    "def foc_func(p, t, p_guess):\n",
    "    shares_j = estimated_shares(p_guess, t)\n",
    "    return (p - mc(t)) * dsj_dpj(shares_j, alpha) + shares_j\n",
    "\n",
    "# Find equilibrium prices for all T markets (should take about 30 seconds to run). If nothing prints out, then all prices converged sucessfully \n",
    "equilib_prices = np.zeros([T,J]) \n",
    "for t in range(T):\n",
    "    init_prices = np.random.uniform(0,1,(J))\n",
    "    prices_t = optimize.root(foc_func, init_prices, args=(t, init_prices))\n",
    "    equilib_prices[t] = prices_t.x # x is (1x4) vector of prices\n",
    "    if  prices_t.success == False:\n",
    "        print(equilib_prices[t])\n",
    "        break"
   ]
  },
  {
   "cell_type": "markdown",
   "metadata": {},
   "source": [
    "Part 3 - Calculate \"Observed\" Shares"
   ]
  },
  {
   "cell_type": "code",
   "execution_count": 27,
   "metadata": {},
   "outputs": [],
   "source": [
    "observed_shares = np.empty((T,J))\n",
    "for t in range(T):\n",
    "    observed_shares[t] = estimated_shares(equilib_prices[t], t)"
   ]
  },
  {
   "cell_type": "markdown",
   "metadata": {},
   "source": [
    "Part 4 - Estimate Demand with OLS"
   ]
  },
  {
   "cell_type": "code",
   "execution_count": 28,
   "metadata": {},
   "outputs": [
    {
     "name": "stdout",
     "output_type": "stream",
     "text": [
      "                            OLS Regression Results                            \n",
      "==============================================================================\n",
      "Dep. Variable:                      y   R-squared:                       0.687\n",
      "Model:                            OLS   Adj. R-squared:                  0.687\n",
      "Method:                 Least Squares   F-statistic:                     1752.\n",
      "Date:                Sun, 14 Apr 2024   Prob (F-statistic):               0.00\n",
      "Time:                        19:15:59   Log-Likelihood:                -3001.4\n",
      "No. Observations:                2400   AIC:                             6011.\n",
      "Df Residuals:                    2396   BIC:                             6034.\n",
      "Df Model:                           3                                         \n",
      "Covariance Type:            nonrobust                                         \n",
      "==============================================================================\n",
      "                 coef    std err          t      P>|t|      [0.025      0.975]\n",
      "------------------------------------------------------------------------------\n",
      "prices        -1.4865      0.021    -72.215      0.000      -1.527      -1.446\n",
      "sat            2.8411      0.062     45.680      0.000       2.719       2.963\n",
      "wired          2.8139      0.062     45.657      0.000       2.693       2.935\n",
      "x              0.7577      0.030     25.492      0.000       0.699       0.816\n",
      "==============================================================================\n",
      "Omnibus:                      188.009   Durbin-Watson:                   2.005\n",
      "Prob(Omnibus):                  0.000   Jarque-Bera (JB):              492.900\n",
      "Skew:                          -0.439   Prob(JB):                    9.29e-108\n",
      "Kurtosis:                       5.039   Cond. No.                         15.7\n",
      "==============================================================================\n",
      "\n",
      "Notes:\n",
      "[1] Standard Errors assume that the covariance matrix of the errors is correctly specified.\n"
     ]
    }
   ],
   "source": [
    "log_odds = np.empty((T,J))\n",
    "for t in range(T):\n",
    "   sum_inside_shares =  np.sum(observed_shares[t])\n",
    "   outside_option_share = np.maximum(1 - sum_inside_shares, np.finfo(float).eps) # use maximum so you don't divide by 0\n",
    "   log_odds[t] = np.log(observed_shares[t] / outside_option_share)\n",
    "\n",
    "y = log_odds.flatten()\n",
    "indep_vars = pd.DataFrame({\n",
    "    'prices': equilib_prices.flatten(),\n",
    "    'sat': SAT.flatten(),\n",
    "    'wired': WIR.flatten(),\n",
    "    'x': X.flatten(),\n",
    "})\n",
    "\n",
    "ols_model = sm.OLS(y, indep_vars).fit()\n",
    "print(ols_model.summary())"
   ]
  },
  {
   "cell_type": "markdown",
   "metadata": {},
   "source": [
    "Part 5  - Estimate Demand with 2SLS\n",
    "\n",
    "The R^2 term is lower in the 2SLS estimate, dropping from 0.687 to 0.590. The coefficient on prices decreased in magnitude from -1.49 to -1.16, which makes sense considering the endogeneity in OLS would bias the price coefficent away from zero. "
   ]
  },
  {
   "cell_type": "code",
   "execution_count": 29,
   "metadata": {},
   "outputs": [
    {
     "name": "stdout",
     "output_type": "stream",
     "text": [
      "                          IV2SLS Regression Results                           \n",
      "==============================================================================\n",
      "Dep. Variable:                      y   R-squared:                       0.590\n",
      "Model:                         IV2SLS   Adj. R-squared:                  0.590\n",
      "Method:                     Two Stage   F-statistic:                       nan\n",
      "                        Least Squares   Prob (F-statistic):                nan\n",
      "Date:                Sun, 14 Apr 2024                                         \n",
      "Time:                        19:15:59                                         \n",
      "No. Observations:                2400                                         \n",
      "Df Residuals:                    2397                                         \n",
      "Df Model:                           2                                         \n",
      "==============================================================================\n",
      "                 coef    std err          t      P>|t|      [0.025      0.975]\n",
      "------------------------------------------------------------------------------\n",
      "prices        -1.1564      0.048    -23.931      0.000      -1.251      -1.062\n",
      "sat            2.4952      0.141     17.715      0.000       2.219       2.771\n",
      "wired          2.4709      0.139     17.725      0.000       2.198       2.744\n",
      "==============================================================================\n",
      "Omnibus:                      830.399   Durbin-Watson:                   1.982\n",
      "Prob(Omnibus):                  0.000   Jarque-Bera (JB):            14459.249\n",
      "Skew:                          -1.172   Prob(JB):                         0.00\n",
      "Kurtosis:                      14.794   Cond. No.                         15.1\n",
      "==============================================================================\n"
     ]
    }
   ],
   "source": [
    "instrument_vars = pd.DataFrame({\n",
    "    'sat': SAT.flatten(),\n",
    "    'wired': WIR.flatten(),\n",
    "    'x': X.flatten(),\n",
    "    'w': W.flatten()\n",
    "})\n",
    "\n",
    "exog_vars = pd.DataFrame({\n",
    "    'prices': equilib_prices.flatten(),\n",
    "    'sat': SAT.flatten(),\n",
    "    'wired': WIR.flatten(),\n",
    "})\n",
    "\n",
    "iv_model = IV2SLS(endog = y, exog = exog_vars, instrument = instrument_vars).fit()\n",
    "print(iv_model.summary())"
   ]
  },
  {
   "cell_type": "markdown",
   "metadata": {},
   "source": [
    "Part 6 - Diversion Ratios\n",
    "\n",
    "The first two diversion tables calculate the average of all the diversion ratios across markets. The first table uses estimated values, and the second uses true shares (genererated from the data in part 1 and 2). These average tables are very similar when just looking at the colors, so relative diversion seems simalar across specifications. However, the magnitudes for the diversion ratios are higher for the estimated table. The tables below compare estimated vs true values for a singular market. The estimated diversions are again higher than the true matrix. This time both the color and scale differ. "
   ]
  },
  {
   "cell_type": "code",
   "execution_count": 30,
   "metadata": {},
   "outputs": [
    {
     "data": {
      "text/plain": [
       "Text(0.5, 1.0, 'True diversion matrix for market 200')"
      ]
     },
     "execution_count": 30,
     "metadata": {},
     "output_type": "execute_result"
    },
    {
     "data": {
      "image/png": "[encoded data removed]",
      "text/plain": [
       "<Figure size 480x480 with 2 Axes>"
      ]
     },
     "metadata": {},
     "output_type": "display_data"
    },
    {
     "data": {
      "image/png": "[encoded data removed]",
      "text/plain": [
       "<Figure size 480x480 with 2 Axes>"
      ]
     },
     "metadata": {},
     "output_type": "display_data"
    },
    {
     "data": {
      "image/png": "[encoded data removed]",
      "text/plain": [
       "<Figure size 480x480 with 2 Axes>"
      ]
     },
     "metadata": {},
     "output_type": "display_data"
    },
    {
     "data": {
      "image/png": "[encoded data removed]",
      "text/plain": [
       "<Figure size 480x480 with 2 Axes>"
      ]
     },
     "metadata": {},
     "output_type": "display_data"
    },
    {
     "data": {
      "image/png": "[encoded data removed]",
      "text/plain": [
       "<Figure size 480x480 with 2 Axes>"
      ]
     },
     "metadata": {},
     "output_type": "display_data"
    },
    {
     "data": {
      "image/png": "[encoded data removed]",
      "text/plain": [
       "<Figure size 480x480 with 2 Axes>"
      ]
     },
     "metadata": {},
     "output_type": "display_data"
    }
   ],
   "source": [
    "def calc_div_matrix(all_shares, coeff):\n",
    "    div_matrix = np.empty((T,J,J))\n",
    "    for t in range(T):\n",
    "        denominator_derivs = dsj_dpj(all_shares[t], coeff) # (4x1) array\n",
    "        outside_share = 1 - np.sum(all_shares[t])\n",
    "        for j in range(J): # row of diversion matrix in market t\n",
    "            for k in range(J): # col of diversion matrix in market t\n",
    "                numerator_share = all_shares[t, k] if k != j else outside_share\n",
    "                numerator_derivative = - coeff * numerator_share * all_shares[t, j]\n",
    "                div_matrix[t,j,k] = - numerator_derivative / denominator_derivs[j]\n",
    "    return div_matrix\n",
    "\n",
    "est_alpha = iv_model.params['prices']\n",
    "est_log_odds = np.exp(np.array(iv_model.fittedvalues)).reshape(T,J)\n",
    "est_market_sum = np.sum(est_log_odds, axis = 1).reshape(T,1) + 1\n",
    "est_shares = est_log_odds / est_market_sum\n",
    "\n",
    "true_div_matrix = calc_div_matrix(observed_shares, alpha)\n",
    "estimated_div_matrix = calc_div_matrix(est_shares, est_alpha)\n",
    "\n",
    "avg_est_div_ratios = estimated_div_matrix.mean(axis= 0)\n",
    "avg_true_div_matrix = true_div_matrix.mean(axis= 0)\n",
    "\n",
    "plt1 = plt.colorbar(plt.matshow(avg_est_div_ratios))\n",
    "plt1.ax.set_title('Average estimated diversion matrix',fontsize=14)\n",
    "plt2 = plt.colorbar(plt.matshow(avg_true_div_matrix))\n",
    "plt2.ax.set_title('Average true diversion matrix',fontsize=14)\n",
    "\n",
    "plt3 = plt.colorbar(plt.matshow(estimated_div_matrix[100]))\n",
    "plt3.ax.set_title('Estimated diversion matrix for market 100',fontsize=14)\n",
    "plt4 = plt.colorbar(plt.matshow(true_div_matrix[100]))\n",
    "plt4.ax.set_title('True diversion matrix for market 100',fontsize=14)\n",
    "\n",
    "plt5 = plt.colorbar(plt.matshow(estimated_div_matrix[200]))\n",
    "plt5.ax.set_title('Estimated diversion matrix for market 200',fontsize=14)\n",
    "plt6 = plt.colorbar(plt.matshow(true_div_matrix[200]))\n",
    "plt6.ax.set_title('True diversion matrix for market 200',fontsize=14)"
   ]
  },
  {
   "cell_type": "markdown",
   "metadata": {},
   "source": [
    "Part 7 - Setup pyBLP"
   ]
  },
  {
   "cell_type": "code",
   "execution_count": 74,
   "metadata": {},
   "outputs": [],
   "source": [
    "market_ids = np.repeat(np.array(list(range(1,T+1))), repeats = J, axis=0) \n",
    "product_ids = np.tile(list(range(1,J+1)), reps= T)\n",
    "marginal_costs = np.empty((T,J))\n",
    "\n",
    "for t in range(T):\n",
    "    marginal_costs[t] = mc(t)\n",
    "\n",
    "product_data = pd.DataFrame({\n",
    "    'market_ids': market_ids.astype(int),\n",
    "    'product_ids': product_ids.astype(int),\n",
    "    'firm_ids': product_ids.astype(int), # IDs that associate products with firms, needed for supply side formulation\n",
    "    'shares': np.reshape(observed_shares, (T*J)),\n",
    "    'x': np.reshape(X, (T*J)),\n",
    "    'w': np.reshape(W, (T*J)),\n",
    "    'sat': np.reshape(SAT, (T*J)),\n",
    "    'wir': np.reshape(WIR, (T*J)),\n",
    "    'xi': np.reshape(Xi, (T*J)),\n",
    "    'omega': np.reshape(Omega, (T*J)),\n",
    "    'mc': np.reshape(marginal_costs, (T*J))\n",
    "})\n",
    "\n",
    "demand_instruments = np.c_[\n",
    "    pyblp.build_blp_instruments(pyblp.Formulation('0 + x'), product_data)[:,1:],\n",
    "    pyblp.build_differentiation_instruments(pyblp.Formulation('0 + x'), product_data)[:,1:]\n",
    "]\n",
    "\n",
    "for i in range(len(demand_instruments[1])):\n",
    "    product_data[f'demand_instruments{i}'] = demand_instruments[:,i]\n",
    "\n",
    "### Supply instruments\n",
    "supply_instruments = np.c_[\n",
    "    pyblp.build_blp_instruments(pyblp.Formulation('0 + w'), product_data)[:,1:],\n",
    "    pyblp.build_differentiation_instruments(pyblp.Formulation('0 + w'), product_data)[:,1:]\n",
    "]\n",
    "\n",
    "for i in range(len(supply_instruments[1])):\n",
    "    product_data[f'supply_instruments{i}'] = supply_instruments[:,i]\n",
    "\n",
    "\n",
    "integration = pyblp.Integration('product', 9)\n"
   ]
  },
  {
   "cell_type": "markdown",
   "metadata": {},
   "source": [
    "Use pyBLP to estimate demand alone"
   ]
  },
  {
   "cell_type": "code",
   "execution_count": 75,
   "metadata": {},
   "outputs": [
    {
     "name": "stdout",
     "output_type": "stream",
     "text": [
      "Initializing the simulation ...\n",
      "Initialized the simulation after 00:00:00.\n",
      "\n",
      "Dimensions:\n",
      "================================\n",
      " T    N     F    I     K1    K2 \n",
      "---  ----  ---  ----  ----  ----\n",
      "600  2400   4   5400   3     1  \n",
      "================================\n",
      "\n",
      "Formulations:\n",
      "===============================================\n",
      "       Column Indices:          0    1     2   \n",
      "-----------------------------  ---  ---  ------\n",
      " X1: Linear Characteristics     x   wir  prices\n",
      "X2: Nonlinear Characteristics  wir             \n",
      "===============================================\n",
      "\n",
      "Nonlinear Coefficient True Values:\n",
      "================\n",
      "Sigma:    wir   \n",
      "------  --------\n",
      " wir    +1.0E+00\n",
      "================\n",
      "\n",
      "Beta True Values:\n",
      "============================\n",
      "   x        wir      prices \n",
      "--------  --------  --------\n",
      "+1.0E+00  +4.0E+00  -2.0E+00\n",
      "============================\n",
      "Replacing prices and shares ...\n",
      "Replaced prices and shares after 00:00:01.\n",
      "\n",
      "Simulation Results Summary:\n",
      "======================================================================================================\n",
      "Computation  Fixed Point  Fixed Point  Contraction  Profit Gradients  Profit Hessians  Profit Hessians\n",
      "   Time       Failures    Iterations   Evaluations      Max Norm      Min Eigenvalue   Max Eigenvalue \n",
      "-----------  -----------  -----------  -----------  ----------------  ---------------  ---------------\n",
      " 00:00:01         0          10397        10397         +2.8E-13         -1.3E+00         -3.5E-05    \n",
      "======================================================================================================\n",
      "Initializing the problem ...\n",
      "Initialized the problem after 00:00:00.\n",
      "\n",
      "Dimensions:\n",
      "======================================\n",
      " T    N     F    I     K1    K2    MD \n",
      "---  ----  ---  ----  ----  ----  ----\n",
      "600  2400   4   5400   3     1     4  \n",
      "======================================\n",
      "\n",
      "Formulations:\n",
      "===============================================\n",
      "       Column Indices:          0    1     2   \n",
      "-----------------------------  ---  ---  ------\n",
      " X1: Linear Characteristics     x   wir  prices\n",
      "X2: Nonlinear Characteristics  wir             \n",
      "===============================================\n",
      "Solving the problem ...\n",
      "\n",
      "Nonlinear Coefficient Initial Values:\n",
      "================\n",
      "Sigma:    wir   \n",
      "------  --------\n",
      " wir    +5.0E-01\n",
      "================\n",
      "\n",
      "Beta Initial Values:\n",
      "============================\n",
      "   x        wir      prices \n",
      "--------  --------  --------\n",
      "   NAN       NAN    -1.0E+00\n",
      "============================\n",
      "\n",
      "Nonlinear Coefficient Lower Bounds:\n",
      "================\n",
      "Sigma:    wir   \n",
      "------  --------\n",
      " wir    +0.0E+00\n",
      "================\n",
      "\n",
      "Beta Lower Bounds:\n",
      "============================\n",
      "   x        wir      prices \n",
      "--------  --------  --------\n",
      "  -INF      -INF      -INF  \n",
      "============================\n",
      "\n",
      "Nonlinear Coefficient Upper Bounds:\n",
      "================\n",
      "Sigma:    wir   \n",
      "------  --------\n",
      " wir      +INF  \n",
      "================\n",
      "\n",
      "Beta Upper Bounds:\n",
      "============================\n",
      "   x        wir      prices \n",
      "--------  --------  --------\n",
      "  +INF      +INF      +INF  \n",
      "============================\n",
      "\n",
      "Starting optimization ...\n",
      "\n",
      "GMM   Computation  Optimization   Objective   Fixed Point  Contraction  Clipped  Objective   Objective     Projected                      \n",
      "Step     Time       Iterations   Evaluations  Iterations   Evaluations  Shares     Value    Improvement  Gradient Norm        Theta       \n",
      "----  -----------  ------------  -----------  -----------  -----------  -------  ---------  -----------  -------------  ------------------\n",
      " 1     00:00:00         0             1          2479         8058         0     +3.8E+03                  +7.8E+03     +5.0E-01, -1.0E+00\n",
      " 1     00:00:00         0             2          2479         8046         0     +4.9E+00    +3.8E+03      +1.5E+02     +5.0E-01, -2.0E+00\n",
      " 1     00:00:00         1             3          2478         8054         0     +3.5E+00    +1.4E+00      +1.3E+00     +5.0E-01, -2.0E+00\n",
      " 1     00:00:00         2             4          2479         8066         0     +3.5E+00    +2.2E-04      +1.3E+00     +5.0E-01, -2.0E+00\n",
      " 1     00:00:00         2             5          2486         8065         0     +3.5E+00    +8.9E-04      +1.3E+00     +5.0E-01, -2.0E+00\n",
      " 1     00:00:00         2             6          2489         8077         0     +3.5E+00    +3.6E-03      +1.3E+00     +5.0E-01, -2.0E+00\n",
      " 1     00:00:00         2             7          2512         8138         0     +3.5E+00    +1.4E-02      +1.4E+00     +5.1E-01, -2.0E+00\n",
      " 1     00:00:00         2             8          2586         8337         0     +3.4E+00    +5.9E-02      +4.2E+00     +5.6E-01, -2.0E+00\n",
      " 1     00:00:00         2             9          2923         9150         0     +3.2E+00    +2.5E-01      +1.9E+01     +7.3E-01, -2.0E+00\n",
      " 1     00:00:00         2            10          3271         10335        0     +2.6E+00    +6.2E-01      +1.1E+02     +1.4E+00, -2.0E+00\n",
      " 1     00:00:00         3            11          3522         11226        0     +2.0E+00    +6.0E-01      +1.6E+02     +2.3E+00, -2.0E+00\n",
      " 1     00:00:00         4            12          3667         11649        0     +1.4E-01    +1.8E+00      +3.4E+01     +2.8E+00, -2.0E+00\n",
      " 1     00:00:00         5            13          3828         12131        0     +3.8E-04    +1.4E-01      +2.4E+00     +3.0E+00, -2.0E+00\n",
      " 1     00:00:00         6            14          3819         12104        0     +1.1E-05    +3.7E-04      +2.9E-01     +3.0E+00, -2.0E+00\n",
      " 1     00:00:00         7            15          3823         12094        0     +7.4E-09    +1.1E-05      +2.6E-03     +3.0E+00, -2.0E+00\n",
      " 1     00:00:00         8            16          3820         12096        0     +6.3E-12    +7.4E-09      +2.3E-04     +3.0E+00, -2.0E+00\n",
      " 1     00:00:00         9            17          3825         12107        0     +1.7E-16    +6.3E-12      +1.6E-06     +3.0E+00, -2.0E+00\n",
      "\n",
      "Optimization completed after 00:00:07.\n",
      "Computing the Hessian and and updating the weighting matrix ...\n",
      "Computed results after 00:00:03.\n",
      "\n",
      "Problem Results Summary:\n",
      "===========================================================================================\n",
      "GMM   Objective    Projected    Reduced Hessian  Reduced Hessian  Clipped  Weighting Matrix\n",
      "Step    Value    Gradient Norm  Min Eigenvalue   Max Eigenvalue   Shares   Condition Number\n",
      "----  ---------  -------------  ---------------  ---------------  -------  ----------------\n",
      " 1    +1.7E-16     +1.6E-06        +1.6E+00         +8.0E+03         0         +6.0E+01    \n",
      "===========================================================================================\n",
      "\n",
      "Starting optimization ...\n",
      "\n",
      "GMM   Computation  Optimization   Objective   Fixed Point  Contraction  Clipped  Objective   Objective     Projected                      \n",
      "Step     Time       Iterations   Evaluations  Iterations   Evaluations  Shares     Value    Improvement  Gradient Norm        Theta       \n",
      "----  -----------  ------------  -----------  -----------  -----------  -------  ---------  -----------  -------------  ------------------\n",
      " 2     00:00:00         0             1            0           600         0     +1.4E-16                  +1.3E-06     +3.0E+00, -2.0E+00\n",
      "\n",
      "Optimization completed after 00:00:00.\n",
      "Computing the Hessian and estimating standard errors ...\n",
      "Computed results after 00:00:01.\n",
      "\n",
      "Problem Results Summary:\n",
      "==============================================================================================================\n",
      "GMM   Objective    Projected    Reduced Hessian  Reduced Hessian  Clipped  Weighting Matrix  Covariance Matrix\n",
      "Step    Value    Gradient Norm  Min Eigenvalue   Max Eigenvalue   Shares   Condition Number  Condition Number \n",
      "----  ---------  -------------  ---------------  ---------------  -------  ----------------  -----------------\n",
      " 2    +1.4E-16     +1.3E-06        +1.1E+00         +6.5E+03         0         +5.8E+01          +2.6E+04     \n",
      "==============================================================================================================\n",
      "\n",
      "Cumulative Statistics:\n",
      "===========================================================================\n",
      "Computation  Optimizer  Optimization   Objective   Fixed Point  Contraction\n",
      "   Time      Converged   Iterations   Evaluations  Iterations   Evaluations\n",
      "-----------  ---------  ------------  -----------  -----------  -----------\n",
      " 00:00:11       Yes          10           20          56311       181040   \n",
      "===========================================================================\n",
      "\n",
      "Nonlinear Coefficient Estimates (Robust SEs in Parentheses):\n",
      "==================\n",
      "Sigma:     wir    \n",
      "------  ----------\n",
      " wir     +3.0E+00 \n",
      "        (+1.3E+00)\n",
      "==================\n",
      "\n",
      "Beta Estimates (Robust SEs in Parentheses):\n",
      "==================================\n",
      "    x          wir        prices  \n",
      "----------  ----------  ----------\n",
      " +1.1E+00    +4.0E+00    -2.0E+00 \n",
      "(+1.2E-01)  (+5.2E-02)  (+3.9E-02)\n",
      "==================================\n"
     ]
    }
   ],
   "source": [
    "simulation_a = pyblp.Simulation(\n",
    "   product_formulations=(\n",
    "       pyblp.Formulation('0 + x + wir + prices'), #X1: exogenous and endogenous \"linear\" variables \n",
    "       pyblp.Formulation('0 + wir') #X2: \"non-linear\" characteristics\n",
    "   ),\n",
    "   beta=[1, 4, -2],\n",
    "   sigma=[1],\n",
    "   product_data=product_data, \n",
    "   integration=integration, \n",
    "   xi = product_data['xi'],\n",
    "   seed=0\n",
    ")\n",
    "\n",
    "simulation_a_results = simulation_a.replace_endogenous(costs=product_data[\"mc\"])\n",
    "\n",
    "problem_a = simulation_a_results.to_problem() \n",
    "\n",
    "results_a = problem_a.solve(sigma=0.5*simulation_a.sigma, beta=[None, None, -1], optimization=pyblp.Optimization('l-bfgs-b', {'gtol': 1e-4}))"
   ]
  },
  {
   "cell_type": "markdown",
   "metadata": {},
   "source": [
    " Use pyBLP to estimate supply and demand"
   ]
  },
  {
   "cell_type": "code",
   "execution_count": 44,
   "metadata": {},
   "outputs": [
    {
     "name": "stdout",
     "output_type": "stream",
     "text": [
      "Initializing the simulation ...\n",
      "Initialized the simulation after 00:00:00.\n",
      "\n",
      "Dimensions:\n",
      "======================================\n",
      " T    N     F    I     K1    K2    K3 \n",
      "---  ----  ---  ----  ----  ----  ----\n",
      "600  2400   4   5400   3     1     2  \n",
      "======================================\n",
      "\n",
      "Formulations:\n",
      "=================================================\n",
      "        Column Indices:           0    1     2   \n",
      "-------------------------------  ---  ---  ------\n",
      "  X1: Linear Characteristics      x   wir  prices\n",
      " X2: Nonlinear Characteristics   wir             \n",
      "X3: Linear Cost Characteristics   1    w         \n",
      "=================================================\n",
      "\n",
      "Nonlinear Coefficient True Values:\n",
      "================\n",
      "Sigma:    wir   \n",
      "------  --------\n",
      " wir    +1.0E+00\n",
      "================\n",
      "\n",
      "Beta True Values:\n",
      "============================\n",
      "   x        wir      prices \n",
      "--------  --------  --------\n",
      "+1.0E+00  +4.0E+00  -2.0E+00\n",
      "============================\n",
      "\n",
      "Gamma True Values:\n",
      "==================\n",
      "   1         w    \n",
      "--------  --------\n",
      "+5.0E-01  +2.5E-01\n",
      "==================\n",
      "Replacing prices and shares ...\n",
      "Replaced prices and shares after 00:00:01.\n",
      "\n",
      "Simulation Results Summary:\n",
      "======================================================================================================\n",
      "Computation  Fixed Point  Fixed Point  Contraction  Profit Gradients  Profit Hessians  Profit Hessians\n",
      "   Time       Failures    Iterations   Evaluations      Max Norm      Min Eigenvalue   Max Eigenvalue \n",
      "-----------  -----------  -----------  -----------  ----------------  ---------------  ---------------\n",
      " 00:00:01         0          15828        15828         +4.0E-13         -1.4E+00         -2.6E-04    \n",
      "======================================================================================================\n",
      "Initializing the problem ...\n",
      "Initialized the problem after 00:00:00.\n",
      "\n",
      "Dimensions:\n",
      "==================================================\n",
      " T    N     F    I     K1    K2    K3    MD    MS \n",
      "---  ----  ---  ----  ----  ----  ----  ----  ----\n",
      "600  2400   4   5400   3     1     2     5     5  \n",
      "==================================================\n",
      "\n",
      "Formulations:\n",
      "=================================================\n",
      "        Column Indices:           0    1     2   \n",
      "-------------------------------  ---  ---  ------\n",
      "  X1: Linear Characteristics      x   wir  prices\n",
      " X2: Nonlinear Characteristics   wir             \n",
      "X3: Linear Cost Characteristics   1    w         \n",
      "=================================================\n",
      "Solving the problem ...\n",
      "\n",
      "Nonlinear Coefficient Initial Values:\n",
      "================\n",
      "Sigma:    wir   \n",
      "------  --------\n",
      " wir    +5.0E-01\n",
      "================\n",
      "\n",
      "Beta Initial Values:\n",
      "============================\n",
      "   x        wir      prices \n",
      "--------  --------  --------\n",
      "   NAN       NAN    -1.0E+00\n",
      "============================\n",
      "\n",
      "Nonlinear Coefficient Lower Bounds:\n",
      "================\n",
      "Sigma:    wir   \n",
      "------  --------\n",
      " wir    +0.0E+00\n",
      "================\n",
      "\n",
      "Beta Lower Bounds:\n",
      "============================\n",
      "   x        wir      prices \n",
      "--------  --------  --------\n",
      "  -INF      -INF      -INF  \n",
      "============================\n",
      "\n",
      "Nonlinear Coefficient Upper Bounds:\n",
      "================\n",
      "Sigma:    wir   \n",
      "------  --------\n",
      " wir      +INF  \n",
      "================\n",
      "\n",
      "Beta Upper Bounds:\n",
      "============================\n",
      "   x        wir      prices \n",
      "--------  --------  --------\n",
      "  +INF      +INF      +INF  \n",
      "============================\n",
      "\n",
      "Starting optimization ...\n",
      "\n",
      "GMM   Computation  Optimization   Objective   Fixed Point  Contraction  Clipped  Objective   Objective     Projected                      \n",
      "Step     Time       Iterations   Evaluations  Iterations   Evaluations  Shares     Value    Improvement  Gradient Norm        Theta       \n",
      "----  -----------  ------------  -----------  -----------  -----------  -------  ---------  -----------  -------------  ------------------\n",
      " 1     00:00:01         0             1          3950         12539        0     +9.1E+02                  +2.1E+03     +5.0E-01, -1.0E+00\n",
      " 1     00:00:01         0             2          3951         12549        0     +4.2E+00    +9.1E+02      +6.2E+01     +5.0E-01, -2.0E+00\n",
      " 1     00:00:01         1             3          3948         12530        0     +3.2E+00    +1.0E+00      +9.4E+00     +5.0E-01, -2.0E+00\n",
      " 1     00:00:01         2             4          3949         12529        0     +3.2E+00    +2.5E-02      +6.9E-01     +5.0E-01, -2.0E+00\n",
      " 1     00:00:01         3             5          3949         12537        0     +3.2E+00    +2.6E-04      +6.9E-01     +5.0E-01, -2.0E+00\n",
      " 1     00:00:01         3             6          3943         12516        0     +3.1E+00    +1.0E-03      +6.9E-01     +5.0E-01, -2.0E+00\n",
      " 1     00:00:01         3             7          3932         12492        0     +3.1E+00    +4.0E-03      +8.0E-01     +4.9E-01, -2.0E+00\n",
      " 1     00:00:01         3             8          3876         12321        0     +3.1E+00    +1.3E-02      +3.2E+00     +4.7E-01, -2.0E+00\n",
      " 1     00:00:01         4             9          3709         11745        0     +3.1E+00    +5.8E-02      +8.1E+00     +3.3E-01, -2.0E+00\n",
      " 1     00:00:01         5            10          3225         10433        0     +3.0E+00    +4.8E-02      +8.3E+00     +1.7E-01, -2.0E+00\n",
      " 1     00:00:01         6            11          2456         7938         0     +3.0E+00    +3.4E-02      +1.9E+00     +6.1E-02, -2.0E+00\n",
      " 1     00:00:01         7            12          2403         7763         0     +3.0E+00    +3.2E-03      +2.7E-01     +1.3E-02, -2.0E+00\n",
      " 1     00:00:01         8            13          1879         6193         0     +3.0E+00    +1.2E-04      +3.1E-02     +6.4E-04, -2.0E+00\n",
      " 1     00:00:01         9            14          1855         6121         0     +3.0E+00    +5.1E-07      +7.2E-04     +1.8E-05, -2.0E+00\n",
      " 1     00:00:00         10           15            0           600         0     +3.0E+00    +3.4E-10      +4.5E-05     +0.0E+00, -2.0E+00\n",
      "\n",
      "Optimization completed after 00:00:10.\n",
      "Computing the Hessian and and updating the weighting matrix ...\n",
      "Computed results after 00:00:02.\n",
      "\n",
      "Problem Results Summary:\n",
      "===========================================================================================\n",
      "GMM   Objective    Projected    Reduced Hessian  Reduced Hessian  Clipped  Weighting Matrix\n",
      "Step    Value    Gradient Norm  Min Eigenvalue   Max Eigenvalue   Shares   Condition Number\n",
      "----  ---------  -------------  ---------------  ---------------  -------  ----------------\n",
      " 1    +3.0E+00     +4.5E-05        +0.0E+00         +1.8E+03         0         +1.2E+02    \n",
      "===========================================================================================\n",
      "\n",
      "Starting optimization ...\n",
      "\n",
      "GMM   Computation  Optimization   Objective   Fixed Point  Contraction  Clipped  Objective   Objective     Projected                      \n",
      "Step     Time       Iterations   Evaluations  Iterations   Evaluations  Shares     Value    Improvement  Gradient Norm        Theta       \n",
      "----  -----------  ------------  -----------  -----------  -----------  -------  ---------  -----------  -------------  ------------------\n",
      " 2     00:00:00         0             1            0           600         0     +5.2E+00                  +9.2E+01     +0.0E+00, -2.0E+00\n",
      " 2     00:00:00         0             2            0           600         0     +8.1E+03                  +3.1E+04     +2.7E-19, -9.6E-01\n",
      " 2     00:00:00         0             3            0           600         0     +6.2E+01                  +9.0E+02     +4.0E-20, -1.8E+00\n",
      " 2     00:00:00         0             4            0           600         0     +4.4E+00    +7.4E-01      +3.4E+00     +4.1E-21, -1.9E+00\n",
      " 2     00:00:00         1             5            0           600         0     +4.4E+00    +9.7E-04      +5.1E-02     +4.8E-20, -1.9E+00\n",
      " 2     00:00:00         2             6            0           600         0     +4.4E+00    +2.2E-07      +2.8E-05     +9.2E-20, -1.9E+00\n",
      "\n",
      "Optimization completed after 00:00:03.\n",
      "Computing the Hessian and estimating standard errors ...\n",
      "\n",
      "Failed to compute standard errors because of invalid estimated covariances of GMM parameters.\n",
      "\n",
      "Computed results after 00:00:02.\n",
      "\n",
      "Problem Results Summary:\n",
      "==============================================================================================================\n",
      "GMM   Objective    Projected    Reduced Hessian  Reduced Hessian  Clipped  Weighting Matrix  Covariance Matrix\n",
      "Step    Value    Gradient Norm  Min Eigenvalue   Max Eigenvalue   Shares   Condition Number  Condition Number \n",
      "----  ---------  -------------  ---------------  ---------------  -------  ----------------  -----------------\n",
      " 2    +4.4E+00     +2.8E-05        -4.7E+00         +5.9E+03         0         +7.2E+03          +1.7E+30     \n",
      "==============================================================================================================\n",
      "\n",
      "Cumulative Statistics:\n",
      "===========================================================================\n",
      "Computation  Optimizer  Optimization   Objective   Fixed Point  Contraction\n",
      "   Time      Converged   Iterations   Evaluations  Iterations   Evaluations\n",
      "-----------  ---------  ------------  -----------  -----------  -----------\n",
      " 00:00:17       Yes          14           23          47025       155606   \n",
      "===========================================================================\n",
      "\n",
      "Nonlinear Coefficient Estimates (Robust SEs in Parentheses):\n",
      "==================\n",
      "Sigma:     wir    \n",
      "------  ----------\n",
      " wir     +9.2E-20 \n",
      "           (NAN)  \n",
      "==================\n",
      "\n",
      "Beta Estimates (Robust SEs in Parentheses):\n",
      "==================================\n",
      "    x          wir        prices  \n",
      "----------  ----------  ----------\n",
      " +9.5E-01    +3.7E+00    -1.9E+00 \n",
      "(+2.9E-02)  (+3.4E-02)  (+1.8E-02)\n",
      "==================================\n",
      "\n",
      "Gamma Estimates (Robust SEs in Parentheses):\n",
      "======================\n",
      "    1           w     \n",
      "----------  ----------\n",
      " +4.9E-01    +2.5E-01 \n",
      "(+8.0E-03)  (+4.1E-03)\n",
      "======================\n"
     ]
    }
   ],
   "source": [
    "simulation_b = pyblp.Simulation(\n",
    "   product_formulations=(\n",
    "       pyblp.Formulation('0 + x + wir + prices'),\n",
    "       pyblp.Formulation('0 + wir'),\n",
    "       pyblp.Formulation('1 + w')\n",
    "   ),\n",
    "   beta=[1, 4, -2],\n",
    "   sigma=[1],\n",
    "   product_data=product_data,\n",
    "   gamma=[gamma_0, gamma_1],\n",
    "   integration=integration, \n",
    "   xi = product_data['xi'],\n",
    "   omega = product_data['omega'] * (1/8),\n",
    "   seed=0\n",
    ")\n",
    "\n",
    "simulation_b_results = simulation_b.replace_endogenous()\n",
    "\n",
    "problem_b = simulation_b_results.to_problem() \n",
    "\n",
    "results_b = problem_b.solve(sigma=0.5*simulation_b.sigma, beta=[None, None, -1], optimization=pyblp.Optimization('l-bfgs-b', {'gtol': 1e-4}))"
   ]
  },
  {
   "cell_type": "markdown",
   "metadata": {},
   "source": [
    "Estimate with Optimal Instruments "
   ]
  },
  {
   "cell_type": "code",
   "execution_count": 100,
   "metadata": {},
   "outputs": [
    {
     "name": "stdout",
     "output_type": "stream",
     "text": [
      "Computing optimal instruments for theta ...\n",
      "Computed optimal instruments after 00:00:00.\n",
      "\n",
      "Optimal Instrument Results Summary:\n",
      "=======================\n",
      "Computation  Error Term\n",
      "   Time        Draws   \n",
      "-----------  ----------\n",
      " 00:00:00        1     \n",
      "=======================\n",
      "Re-creating the problem ...\n",
      "Re-created the problem after 00:00:00.\n",
      "\n",
      "Dimensions:\n",
      "======================================\n",
      " T    N     F    I     K1    K2    MD \n",
      "---  ----  ---  ----  ----  ----  ----\n",
      "600  2400   4   5400   3     1     4  \n",
      "======================================\n",
      "\n",
      "Formulations:\n",
      "===============================================\n",
      "       Column Indices:          0    1     2   \n",
      "-----------------------------  ---  ---  ------\n",
      " X1: Linear Characteristics     x   wir  prices\n",
      "X2: Nonlinear Characteristics  wir             \n",
      "===============================================\n",
      "Solving the problem ...\n",
      "\n",
      "Nonlinear Coefficient Initial Values:\n",
      "================\n",
      "Sigma:    wir   \n",
      "------  --------\n",
      " wir    +5.0E-01\n",
      "================\n",
      "\n",
      "Beta Initial Values:\n",
      "============================\n",
      "   x        wir      prices \n",
      "--------  --------  --------\n",
      "   NAN       NAN    -1.0E+00\n",
      "============================\n",
      "\n",
      "Nonlinear Coefficient Lower Bounds:\n",
      "================\n",
      "Sigma:    wir   \n",
      "------  --------\n",
      " wir    +0.0E+00\n",
      "================\n",
      "\n",
      "Beta Lower Bounds:\n",
      "============================\n",
      "   x        wir      prices \n",
      "--------  --------  --------\n",
      "  -INF      -INF      -INF  \n",
      "============================\n",
      "\n",
      "Nonlinear Coefficient Upper Bounds:\n",
      "================\n",
      "Sigma:    wir   \n",
      "------  --------\n",
      " wir      +INF  \n",
      "================\n",
      "\n",
      "Beta Upper Bounds:\n",
      "============================\n",
      "   x        wir      prices \n",
      "--------  --------  --------\n",
      "  +INF      +INF      +INF  \n",
      "============================\n",
      "\n",
      "Starting optimization ...\n",
      "\n",
      "GMM   Computation  Optimization   Objective   Fixed Point  Contraction  Clipped  Objective   Objective     Projected                      \n",
      "Step     Time       Iterations   Evaluations  Iterations   Evaluations  Shares     Value    Improvement  Gradient Norm        Theta       \n",
      "----  -----------  ------------  -----------  -----------  -----------  -------  ---------  -----------  -------------  ------------------\n",
      " 1     00:00:00         0             1          2479         8058         0     +3.8E+03                  +7.8E+03     +5.0E-01, -1.0E+00\n",
      " 1     00:00:00         0             2          2477         8049         0     +3.4E+00    +3.8E+03      +1.5E+02     +5.0E-01, -2.0E+00\n",
      " 1     00:00:00         1             3          2482         8047         0     +2.0E+00    +1.4E+00      +4.7E+00     +5.0E-01, -2.0E+00\n",
      " 1     00:00:00         2             4          2485         8059         0     +2.0E+00    +2.7E-03      +4.7E+00     +5.0E-01, -2.0E+00\n",
      " 1     00:00:00         2             5          2488         8059         0     +2.0E+00    +1.1E-02      +4.7E+00     +5.0E-01, -2.0E+00\n",
      " 1     00:00:00         2             6          2505         8112         0     +1.9E+00    +4.4E-02      +4.7E+00     +5.1E-01, -2.0E+00\n",
      " 1     00:00:00         2             7          2576         8302         0     +1.8E+00    +1.7E-01      +1.3E+01     +5.5E-01, -2.0E+00\n",
      " 1     00:00:00         2             8          2884         9065         0     +1.2E+00    +5.4E-01      +5.2E+01     +7.0E-01, -2.0E+00\n",
      " 1     00:00:00         3             9          3250         10277        0     +1.7E+00                  +1.3E+02     +1.4E+00, -2.0E+00\n",
      " 1     00:00:00         3            10          3106         9675         0     +5.2E-01    +7.1E-01      +8.3E+01     +1.0E+00, -2.0E+00\n",
      " 1     00:00:00         4            11          3141         9825         0     +1.2E-01    +4.0E-01      +4.3E+01     +1.1E+00, -2.0E+00\n",
      " 1     00:00:00         5            12          3138         9812         0     +5.0E-03    +1.1E-01      +5.3E+00     +1.1E+00, -2.0E+00\n",
      " 1     00:00:00         6            13          3148         9869         0     +2.4E-04    +4.7E-03      +8.9E-02     +1.1E+00, -2.0E+00\n",
      " 1     00:00:00         7            14          3148         9852         0     +6.0E-07    +2.4E-04      +6.6E-02     +1.1E+00, -2.0E+00\n",
      " 1     00:00:00         8            15          3148         9864         0     +7.3E-10    +6.0E-07      +3.4E-03     +1.1E+00, -2.0E+00\n",
      " 1     00:00:00         9            16          3148         9863         0     +4.1E-13    +7.2E-10      +5.8E-05     +1.1E+00, -2.0E+00\n",
      "\n",
      "Optimization completed after 00:00:07.\n",
      "Computing the Hessian and and updating the weighting matrix ...\n",
      "Computed results after 00:00:02.\n",
      "\n",
      "Problem Results Summary:\n",
      "===========================================================================================\n",
      "GMM   Objective    Projected    Reduced Hessian  Reduced Hessian  Clipped  Weighting Matrix\n",
      "Step    Value    Gradient Norm  Min Eigenvalue   Max Eigenvalue   Shares   Condition Number\n",
      "----  ---------  -------------  ---------------  ---------------  -------  ----------------\n",
      " 1    +4.1E-13     +5.8E-05        +1.7E+01         +8.0E+03         0         +3.2E+03    \n",
      "===========================================================================================\n",
      "\n",
      "Starting optimization ...\n",
      "\n",
      "GMM   Computation  Optimization   Objective   Fixed Point  Contraction  Clipped  Objective   Objective     Projected                      \n",
      "Step     Time       Iterations   Evaluations  Iterations   Evaluations  Shares     Value    Improvement  Gradient Norm        Theta       \n",
      "----  -----------  ------------  -----------  -----------  -----------  -------  ---------  -----------  -------------  ------------------\n",
      " 2     00:00:00         0             1            0           600         0     +4.0E-13                  +5.6E-05     +1.1E+00, -2.0E+00\n",
      " 2     00:00:00         0             2          1369         4800         0     +1.3E-05                  +4.5E-01     +1.1E+00, -2.0E+00\n",
      " 2     00:00:00         0             3          1251         3967         0     +2.0E-13    +2.0E-13      +2.7E-06     +1.1E+00, -2.0E+00\n",
      "\n",
      "Optimization completed after 00:00:01.\n",
      "Computing the Hessian and estimating standard errors ...\n",
      "Computed results after 00:00:02.\n",
      "\n",
      "Problem Results Summary:\n",
      "==============================================================================================================\n",
      "GMM   Objective    Projected    Reduced Hessian  Reduced Hessian  Clipped  Weighting Matrix  Covariance Matrix\n",
      "Step    Value    Gradient Norm  Min Eigenvalue   Max Eigenvalue   Shares   Condition Number  Condition Number \n",
      "----  ---------  -------------  ---------------  ---------------  -------  ----------------  -----------------\n",
      " 2    +2.0E-13     +2.7E-06        +1.8E+01         +8.0E+03         0         +3.4E+03          +2.2E+03     \n",
      "==============================================================================================================\n",
      "\n",
      "Cumulative Statistics:\n",
      "===========================================================================\n",
      "Computation  Optimizer  Optimization   Objective   Fixed Point  Contraction\n",
      "   Time      Converged   Iterations   Evaluations  Iterations   Evaluations\n",
      "-----------  ---------  ------------  -----------  -----------  -----------\n",
      " 00:00:11       Yes          11           21          52622       167985   \n",
      "===========================================================================\n",
      "\n",
      "Nonlinear Coefficient Estimates (Robust SEs in Parentheses):\n",
      "==================\n",
      "Sigma:     wir    \n",
      "------  ----------\n",
      " wir     +1.1E+00 \n",
      "        (+3.4E-01)\n",
      "==================\n",
      "\n",
      "Beta Estimates (Robust SEs in Parentheses):\n",
      "==================================\n",
      "    x          wir        prices  \n",
      "----------  ----------  ----------\n",
      " +9.9E-01    +4.0E+00    -2.0E+00 \n",
      "(+4.0E-02)  (+4.3E-02)  (+1.7E-02)\n",
      "==================================\n"
     ]
    }
   ],
   "source": [
    "opt_instruments = results_a.compute_optimal_instruments(method='approximate')\n",
    "\n",
    "problem_c = opt_instruments.to_problem()\n",
    "\n",
    "results_c = problem_c.solve(sigma=0.5*simulation_a.sigma, beta=[None, None,  -1], optimization=pyblp.Optimization('l-bfgs-b', {'gtol': 1e-5}))"
   ]
  },
  {
   "cell_type": "code",
   "execution_count": 107,
   "metadata": {},
   "outputs": [
    {
     "data": {
      "text/html": [
       "<table>\n",
       "<thead>\n",
       "<tr><th>Model   </th><th style=\"text-align: right;\">       X</th><th style=\"text-align: right;\">  Wired</th><th style=\"text-align: right;\">  Prices</th></tr>\n",
       "</thead>\n",
       "<tbody>\n",
       "<tr><td>Model 7a</td><td style=\"text-align: right;\">1.13621 </td><td style=\"text-align: right;\">4.0155 </td><td style=\"text-align: right;\">-2.03422</td></tr>\n",
       "<tr><td>Model 7b</td><td style=\"text-align: right;\">0.945435</td><td style=\"text-align: right;\">3.69281</td><td style=\"text-align: right;\">-1.9447 </td></tr>\n",
       "<tr><td>Model 7c</td><td style=\"text-align: right;\">0.992884</td><td style=\"text-align: right;\">3.99567</td><td style=\"text-align: right;\">-1.98975</td></tr>\n",
       "</tbody>\n",
       "</table>"
      ],
      "text/plain": [
       "'<table>\\n<thead>\\n<tr><th>Model   </th><th style=\"text-align: right;\">       X</th><th style=\"text-align: right;\">  Wired</th><th style=\"text-align: right;\">  Prices</th></tr>\\n</thead>\\n<tbody>\\n<tr><td>Model 7a</td><td style=\"text-align: right;\">1.13621 </td><td style=\"text-align: right;\">4.0155 </td><td style=\"text-align: right;\">-2.03422</td></tr>\\n<tr><td>Model 7b</td><td style=\"text-align: right;\">0.945435</td><td style=\"text-align: right;\">3.69281</td><td style=\"text-align: right;\">-1.9447 </td></tr>\\n<tr><td>Model 7c</td><td style=\"text-align: right;\">0.992884</td><td style=\"text-align: right;\">3.99567</td><td style=\"text-align: right;\">-1.98975</td></tr>\\n</tbody>\\n</table>'"
      ]
     },
     "execution_count": 107,
     "metadata": {},
     "output_type": "execute_result"
    }
   ],
   "source": [
    "data = [np.concatenate([[\"Model 7a\"], results_a.beta[:,0]]),\n",
    "        np.concatenate([[\"Model 7b\"], results_b.beta[:,0]]),\n",
    "        np.concatenate([[\"Model 7c\"], results_c.beta[:,0]])]\n",
    "table = tabulate.tabulate(data, tablefmt='html',  headers=[\"Model\",\"X\", \"Wired\", \"Prices\"])\n",
    "table"
   ]
  },
  {
   "cell_type": "markdown",
   "metadata": {},
   "source": [
    "Part 8 - Calculate Elasticities\n",
    "\n",
    "I used BLP Model 7c (optimal instruments) because it provided elasticity closest to the true elasticity estimations. Also, because I did not include all possible instruments in my initial BLP models, so there is room for pyBLP to optimize my choices. "
   ]
  },
  {
   "cell_type": "code",
   "execution_count": 69,
   "metadata": {},
   "outputs": [
    {
     "name": "stdout",
     "output_type": "stream",
     "text": [
      "Computing elasticities with respect to prices ...\n",
      "Finished after 00:00:00.\n",
      "\n"
     ]
    },
    {
     "data": {
      "text/plain": [
       "Text(0.5, 1.0, 'Average true elasticites')"
      ]
     },
     "execution_count": 69,
     "metadata": {},
     "output_type": "execute_result"
    },
    {
     "data": {
      "image/png": "[encoded data removed]",
      "text/plain": [
       "<Figure size 480x480 with 2 Axes>"
      ]
     },
     "metadata": {},
     "output_type": "display_data"
    },
    {
     "data": {
      "image/png": "[encoded data removed]",
      "text/plain": [
       "<Figure size 480x480 with 2 Axes>"
      ]
     },
     "metadata": {},
     "output_type": "display_data"
    }
   ],
   "source": [
    "est_elasticities = results_c.compute_elasticities().reshape((T, J, J))\n",
    "avg_est_elasticities = est_elasticities.mean(axis= 0)\n",
    "\n",
    "def calc_derivative(share_j, share_k):\n",
    "    if share_j == share_k: # dsj_dpj\n",
    "        return alpha * share_j * (1 - share_j )\n",
    "    else: # dsj_dpk\n",
    "        return -1 * alpha * share_j *  share_k\n",
    "\n",
    "def calc_elasticities(all_shares):\n",
    "    elasticity_matrix = np.empty((T,J,J))\n",
    "    for t in range(T):\n",
    "        for j in range(J): # row of elasticity matrix in market t\n",
    "            for k in range(J): # col of elasticity matrix in market t\n",
    "                share = all_shares[t,j]\n",
    "                price = equilib_prices[t,k]\n",
    "                deriv = calc_derivative(all_shares[t,j], all_shares[t,k])\n",
    "                elasticity_matrix[t,j,k] = deriv * (price / share)\n",
    "    return elasticity_matrix\n",
    "\n",
    "true_elasticities = calc_elasticities(observed_shares)\n",
    "avg_true_elasticities = true_elasticities.mean(axis= 0)\n",
    "\n",
    "plt1 = plt.colorbar(plt.matshow(avg_est_elasticities))\n",
    "plt1.ax.set_title('Average estimated elasticites',fontsize=14)\n",
    "plt2 = plt.colorbar(plt.matshow(avg_true_elasticities))\n",
    "plt2.ax.set_title('Average true elasticites',fontsize=14)"
   ]
  },
  {
   "cell_type": "markdown",
   "metadata": {},
   "source": [
    "Part 9 - Diversion Ratios"
   ]
  },
  {
   "cell_type": "code",
   "execution_count": 70,
   "metadata": {},
   "outputs": [
    {
     "name": "stdout",
     "output_type": "stream",
     "text": [
      "Computing diversion ratios with respect to prices ...\n",
      "Finished after 00:00:00.\n",
      "\n"
     ]
    },
    {
     "data": {
      "text/plain": [
       "Text(0.5, 1.0, 'Average true Diversion Matrix')"
      ]
     },
     "execution_count": 70,
     "metadata": {},
     "output_type": "execute_result"
    },
    {
     "data": {
      "image/png": "[encoded data removed]",
      "text/plain": [
       "<Figure size 480x480 with 2 Axes>"
      ]
     },
     "metadata": {},
     "output_type": "display_data"
    },
    {
     "data": {
      "image/png": "[encoded data removed]",
      "text/plain": [
       "<Figure size 480x480 with 2 Axes>"
      ]
     },
     "metadata": {},
     "output_type": "display_data"
    }
   ],
   "source": [
    "est_div_ratios = results_c.compute_diversion_ratios().reshape((T, J, J))\n",
    "avg_est_div_ratios = est_div_ratios.mean(axis= 0)\n",
    "avg_true_div_matrix = true_div_matrix.mean(axis= 0)\n",
    "\n",
    "plt1 = plt.colorbar(plt.matshow(avg_est_div_ratios))\n",
    "plt1.ax.set_title('Average estimated Diversion Matrix',fontsize=14)\n",
    "plt2 = plt.colorbar(plt.matshow(avg_true_div_matrix))\n",
    "plt2.ax.set_title('Average true Diversion Matrix',fontsize=14)"
   ]
  },
  {
   "cell_type": "markdown",
   "metadata": {},
   "source": [
    "Part 10 - Predict post merger prices (1 and 2 merge)"
   ]
  },
  {
   "cell_type": "code",
   "execution_count": 101,
   "metadata": {},
   "outputs": [
    {
     "name": "stdout",
     "output_type": "stream",
     "text": [
      "Computing marginal costs ...\n",
      "Finished after 00:00:00.\n",
      "\n",
      "Solving for equilibrium prices ...\n",
      "Finished after 00:00:00.\n",
      "\n",
      "Computing consumer surpluses with the equation that assumes away nonlinear income effects ...\n",
      "Finished after 00:00:00.\n",
      "\n",
      "Computing profits ...\n",
      "Finished after 00:00:00.\n",
      "\n",
      "Solving for equilibrium prices ...\n",
      "Finished after 00:00:00.\n",
      "\n",
      "Average Predicted Merger Prices Good 1: 2.5504535439055207\n",
      "Average Predicted Merger Prices Good 2: 2.5542046209822757\n",
      "Average Predicted Merger Prices Good 3: 2.799212324057561\n",
      "Average Predicted Merger Prices Good 4: 2.78768302884056\n"
     ]
    }
   ],
   "source": [
    "costs = results_c.compute_costs()\n",
    "\n",
    "inital_prices = results_c.compute_prices(costs=costs)\n",
    "init_cs = results_c.compute_consumer_surpluses(inital_prices)\n",
    "inital_avg_prices = inital_prices.reshape((T, J)).mean(axis=0)\n",
    "init_avg_profits = results_c.compute_profits(costs=costs).reshape((T, J)).mean(axis=1)\n",
    "\n",
    "## Merger between firms 1 and 2\n",
    "product_data['merger_ids'] = product_data['firm_ids'].replace(2, 1)\n",
    "\n",
    "## Post-merger equilibrium prices\n",
    "merger_1_2_prices = results_c.compute_prices(\n",
    "    firm_ids=product_data['merger_ids'],\n",
    "    costs=costs\n",
    ")\n",
    "\n",
    "avg_merger_1_2_prices = merger_1_2_prices.reshape((T, J)).mean(axis=0)\n",
    "for i in range(J):\n",
    "    print(f'Average Predicted Merger Prices Good {i + 1}:', avg_merger_1_2_prices[i])\n"
   ]
  },
  {
   "cell_type": "markdown",
   "metadata": {},
   "source": [
    "Part 11 - Compare mergers\n",
    "\n",
    "The code in this section prints out the predicted price change for each good in both merger scenarios. The first merger has a larger increase for goods 1 and 2 and very small increase for goods 3 and 4. This makes sense because there is now market power for satellite services. The second merger has larger overall increase of prices, especiall for good 1 and a lesser extent good 3."
   ]
  },
  {
   "cell_type": "code",
   "execution_count": 105,
   "metadata": {},
   "outputs": [
    {
     "name": "stdout",
     "output_type": "stream",
     "text": [
      "Solving for equilibrium prices ...\n",
      "Finished after 00:00:00.\n",
      "\n",
      "Average Price Change (Merger 1 and 2) Good 1: 0.008945738517396329\n",
      "Average Price Change (Merger 1 and 2) Good 2: 0.008823615367910875\n",
      "Average Price Change (Merger 1 and 2) Good 3: 5.372168467010496e-05\n",
      "Average Price Change (Merger 1 and 2) Good 4: 5.778609592566042e-05\n",
      "\n",
      "\n",
      "Average Price Change (Merger 1 and 3) Good 1: 0.1743173768711732\n",
      "Average Price Change (Merger 1 and 3) Good 2: 4.6473371771327265e-05\n",
      "Average Price Change (Merger 1 and 3) Good 3: 0.006926257191879781\n",
      "Average Price Change (Merger 1 and 3) Good 4: 0.0011062791751519363\n"
     ]
    }
   ],
   "source": [
    "## Merger between firms 1 and 3\n",
    "product_data['merger_ids'] = product_data['firm_ids'].replace(3, 1)\n",
    "\n",
    "## Post-merger equilibrium prices\n",
    "merger_1_3_prices = results_c.compute_prices(\n",
    "    firm_ids=product_data['merger_ids'],\n",
    "    costs=costs\n",
    ")\n",
    "\n",
    "avg_merger_1_3_prices = merger_1_3_prices.reshape((T, J)).mean(axis=0)\n",
    "\n",
    "merger_1_2_price_change = avg_merger_1_2_prices - inital_avg_prices\n",
    "merger_1_3_price_change = avg_merger_1_3_prices - inital_avg_prices\n",
    "\n",
    "for i in range(J):\n",
    "    print(f'Average Price Change (Merger 1 and 2) Good {i + 1}:', merger_1_2_price_change[i])\n",
    "\n",
    "print(\"\\n\")\n",
    "\n",
    "for i in range(J):\n",
    "    print(f'Average Price Change (Merger 1 and 3) Good {i + 1}:', merger_1_3_price_change[i])\n"
   ]
  },
  {
   "cell_type": "markdown",
   "metadata": {},
   "source": [
    "Part 12 - Impact of Merger on Consumer Welfare"
   ]
  },
  {
   "cell_type": "code",
   "execution_count": 143,
   "metadata": {},
   "outputs": [
    {
     "name": "stdout",
     "output_type": "stream",
     "text": [
      "Solving for equilibrium prices ...\n",
      "Finished after 00:00:01.\n",
      "\n",
      "Average Price Cost Reduction Merger Good 1: 2.5504535439055207\n",
      "Average Price Cost Reduction Merger Good 2: 2.5542046209822757\n",
      "Average Price Cost Reduction Merger Good 3: 2.799212324057561\n",
      "Average Price Cost Reduction Merger Good 4: 2.78768302884056\n",
      "\n",
      "\n",
      "Computing consumer surpluses with the equation that assumes away nonlinear income effects ...\n",
      "Finished after 00:00:00.\n",
      "\n",
      "Predicted Impact on Consumer Welfare -0.0002436506542665695\n"
     ]
    }
   ],
   "source": [
    "product_data['merger_ids'] = product_data['firm_ids'].replace(2, 1)\n",
    "\n",
    "merger_costs= costs.copy()\n",
    "merger_costs[product_data.merger_ids== 1]= 0.85*merger_costs[product_data.merger_ids== 1]\n",
    "\n",
    "merger_cost_reduction = results_c.compute_prices(\n",
    "    firm_ids=product_data['merger_ids'],\n",
    "    costs=costs\n",
    ")\n",
    "\n",
    "avg_merger_cost_reductions = merger_cost_reduction.reshape((T, J)).mean(axis=0)\n",
    "for i in range(J):\n",
    "    print(f'Average Price Cost Reduction Merger Good {i + 1}:', avg_merger_cost_reductions[i])\n",
    "\n",
    "print(\"\\n\")\n",
    "\n",
    "merger_cs = results_c.compute_consumer_surpluses(merger_cost_reduction)\n",
    "print(\"Predicted Impact on Consumer Welfare\", np.average(merger_cs) - np.average(init_cs))\n"
   ]
  },
  {
   "cell_type": "markdown",
   "metadata": {},
   "source": [
    "Part 13 - Impact of Merger on Total Welfare\n",
    "\n",
    "We need to assume that each market is the same size for computing welfare because that way we can weight consumer surplus changed across all markets evenly. Until now, market size was not relevant because we were calculating demand by market. Consequently, each market had its own calculated product shares and prices. "
   ]
  },
  {
   "cell_type": "code",
   "execution_count": 110,
   "metadata": {},
   "outputs": [
    {
     "name": "stdout",
     "output_type": "stream",
     "text": [
      "Computing profits ...\n",
      "Finished after 00:00:00.\n",
      "\n",
      "Predicted Impact on Total Welfare -0.11306855236831453\n"
     ]
    }
   ],
   "source": [
    "merger_avg_profits = results_c.compute_profits(costs=merger_cost_reduction).reshape((T, J)).mean(axis=1)\n",
    "\n",
    "init_welfare = init_cs + init_avg_profits\n",
    "merger_welfare = merger_cs + merger_avg_profits\n",
    "\n",
    "print(\"Predicted Impact on Total Welfare\", np.average(merger_welfare) - np.average(init_welfare))\n",
    "\n"
   ]
  }
 ],
 "metadata": {
  "kernelspec": {
   "display_name": "2404_pset",
   "language": "python",
   "name": "python3"
  },
  "language_info": {
   "codemirror_mode": {
    "name": "ipython",
    "version": 3
   },
   "file_extension": ".py",
   "mimetype": "text/x-python",
   "name": "python",
   "nbconvert_exporter": "python",
   "pygments_lexer": "ipython3",
   "version": "3.12.2"
  }
 },
 "nbformat": 4,
 "nbformat_minor": 2
}
